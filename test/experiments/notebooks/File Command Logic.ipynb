{
 "cells": [
  {
   "cell_type": "markdown",
   "metadata": {},
   "source": [
    "# Making These Commands Easier To Handle\n",
    "\n",
    "I realized in my last file versioning notebook that it was hard to track the logic from the main commands:\n",
    "\n",
    "1. Save\n",
    "2. Query\n",
    "3. Latest\n",
    "\n",
    "It was obfuscated by the version control logic. Therefore I'm moving 100% of that to a second place without adding actual versioning. I think I have the incrementing logic working, and the capacity to save and load data. I'll be adding information.\n",
    "\n",
    "\n",
    "I'll have:\n",
    "\n",
    "1. Save\n",
    "2. Load\n",
    "3. Delete\n",
    "\n",
    "All of them here, as well as a nice projection of the outcomes of each possible activity."
   ]
  },
  {
   "cell_type": "code",
   "execution_count": 3,
   "metadata": {},
   "outputs": [],
   "source": [
    "from redis import Redis\n",
    "from jamboree.utils.core import consistent_hash\n",
    "from jamboree.utils.support import serialize, deserialize, create_checksum\n",
    "from jamboree.utils.core import consistent_hash, consistent_unhash"
   ]
  },
  {
   "cell_type": "markdown",
   "metadata": {},
   "source": [
    "## Key things we'd be looking for with saving\n",
    "\n",
    "1. Are we overwriting the latest version if it exist\n",
    "    * We'd do this to resemble online learning\n",
    "2. If we aren't doing that, are we updating the version number with this\n",
    "3. Are we saving anything redundant\n",
    "    * This can't technically be done yet. Need to come up with a consistent way to pickle information."
   ]
  },
  {
   "cell_type": "code",
   "execution_count": 4,
   "metadata": {},
   "outputs": [],
   "source": [
    "# How to determine if we should overwrite?\n",
    "# is_overwrite enabled"
   ]
  },
  {
   "cell_type": "code",
   "execution_count": null,
   "metadata": {},
   "outputs": [],
   "source": []
  }
 ],
 "metadata": {
  "kernelspec": {
   "display_name": "Python 3",
   "language": "python",
   "name": "python3"
  },
  "language_info": {
   "codemirror_mode": {
    "name": "ipython",
    "version": 3
   },
   "file_extension": ".py",
   "mimetype": "text/x-python",
   "name": "python",
   "nbconvert_exporter": "python",
   "pygments_lexer": "ipython3",
   "version": "3.7.3"
  },
  "varInspector": {
   "cols": {
    "lenName": 16,
    "lenType": 16,
    "lenVar": 40
   },
   "kernels_config": {
    "python": {
     "delete_cmd_postfix": "",
     "delete_cmd_prefix": "del ",
     "library": "var_list.py",
     "varRefreshCmd": "print(var_dic_list())"
    },
    "r": {
     "delete_cmd_postfix": ") ",
     "delete_cmd_prefix": "rm(",
     "library": "var_list.r",
     "varRefreshCmd": "cat(var_dic_list()) "
    }
   },
   "types_to_exclude": [
    "module",
    "function",
    "builtin_function_or_method",
    "instance",
    "_Feature"
   ],
   "window_display": false
  }
 },
 "nbformat": 4,
 "nbformat_minor": 2
}
