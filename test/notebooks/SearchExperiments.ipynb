{
 "cells": [
  {
   "cell_type": "code",
   "execution_count": 1,
   "metadata": {},
   "outputs": [
    {
     "name": "stdout",
     "output_type": "stream",
     "text": [
      "Collecting redisearch\n",
      "  Using cached https://files.pythonhosted.org/packages/b0/3e/d71a9770fc397b5ac24d636ae46bbf03899bc82a5259e56b9e2c0c452b00/redisearch-0.9.0.tar.gz\n",
      "Requirement already satisfied: hiredis>=0.2.0 in /home/kevin/.cache/pypoetry/virtualenvs/jamboree-8IC9UDZl-py3.7/lib/python3.7/site-packages (from redisearch) (1.0.1)\n",
      "Requirement already satisfied: redis>=2.10 in /home/kevin/.cache/pypoetry/virtualenvs/jamboree-8IC9UDZl-py3.7/lib/python3.7/site-packages (from redisearch) (3.3.11)\n",
      "Collecting rmtest>=0.2 (from redisearch)\n",
      "  Using cached https://files.pythonhosted.org/packages/38/7f/a9ce6b95913e477995476e1a80f20ba199cc90f0a80636e37d795a0af7e1/rmtest-0.7.0.tar.gz\n",
      "Requirement already satisfied: six>=1.10.0 in /home/kevin/.cache/pypoetry/virtualenvs/jamboree-8IC9UDZl-py3.7/lib/python3.7/site-packages (from redisearch) (1.14.0)\n",
      "Installing collected packages: rmtest, redisearch\n",
      "  Running setup.py install for rmtest ... \u001b[?25ldone\n",
      "\u001b[?25h  Running setup.py install for redisearch ... \u001b[?25ldone\n",
      "\u001b[?25hSuccessfully installed redisearch-0.9.0 rmtest-0.7.0\n",
      "\u001b[33mYou are using pip version 19.0.3, however version 20.0.2 is available.\n",
      "You should consider upgrading via the 'pip install --upgrade pip' command.\u001b[0m\n"
     ]
    }
   ],
   "source": [
    "# !pip install redisearch"
   ]
  },
  {
   "cell_type": "code",
   "execution_count": 128,
   "metadata": {},
   "outputs": [
    {
     "name": "stderr",
     "output_type": "stream",
     "text": [
      "/home/kevin/.cache/pypoetry/virtualenvs/jamboree-8IC9UDZl-py3.7/lib/python3.7/site-packages/arctic/_util.py:6: FutureWarning: pandas.util.testing is deprecated. Use the functions in the public API at pandas.testing instead.\n",
      "  from pandas.util.testing import assert_frame_equal\n",
      "/home/kevin/.cache/pypoetry/virtualenvs/jamboree-8IC9UDZl-py3.7/lib/python3.7/site-packages/arctic/store/_pandas_ndarray_store.py:6: FutureWarning: The Panel class is removed from pandas. Accessing it from the top-level namespace will also be removed in the next version\n",
      "  from pandas import DataFrame, Series, Panel\n"
     ]
    }
   ],
   "source": [
    "from jamboree.utils.core import consistent_hash"
   ]
  },
  {
   "cell_type": "markdown",
   "metadata": {},
   "source": [
    "## Requirements Conversion"
   ]
  },
  {
   "cell_type": "code",
   "execution_count": 12,
   "metadata": {},
   "outputs": [],
   "source": [
    "def is_nested(d):\n",
    "    return any(isinstance(i,dict) for i in d.values())"
   ]
  },
  {
   "cell_type": "code",
   "execution_count": 76,
   "metadata": {},
   "outputs": [],
   "source": [
    "def is_gen_type(item, _type):\n",
    "    try:\n",
    "        return isinstance(item, _type) or issubclass(item, _type) or item == _type\n",
    "    except:\n",
    "        return False"
   ]
  },
  {
   "cell_type": "code",
   "execution_count": 77,
   "metadata": {},
   "outputs": [],
   "source": [
    "def name_match(item:str, name:str):\n",
    "    return item.lower() == name.lower()"
   ]
  },
  {
   "cell_type": "code",
   "execution_count": 78,
   "metadata": {},
   "outputs": [
    {
     "data": {
      "text/plain": [
       "True"
      ]
     },
     "execution_count": 78,
     "metadata": {},
     "output_type": "execute_result"
    }
   ],
   "source": [
    "name_match(\"HELLO\", \"hello\")"
   ]
  },
  {
   "cell_type": "code",
   "execution_count": 175,
   "metadata": {},
   "outputs": [],
   "source": [
    "class GEO(type):\n",
    "    \n",
    "    def __call__(cls):\n",
    "        return cls.__new__(cls)\n",
    "    \n",
    "    \"\"\"Geotype placeholder \"\"\"\n",
    "    def __repr__(self):\n",
    "        return \"GEO\"\n",
    "    \n",
    "    def __str__(self):\n",
    "        return \"GEO\""
   ]
  },
  {
   "cell_type": "code",
   "execution_count": 177,
   "metadata": {},
   "outputs": [],
   "source": [
    "exp_requirements = {\n",
    "    \"name\": str,\n",
    "    \"category\": str,\n",
    "    \"location\": \"GEO\",\n",
    "    \"subcategories\": dict,\n",
    "    \"names\": list\n",
    "}"
   ]
  },
  {
   "cell_type": "code",
   "execution_count": 345,
   "metadata": {},
   "outputs": [],
   "source": [
    "class SearchSchemaGenerator(object):\n",
    "    \"\"\" \n",
    "        Creates a search schema and hash for a given requirements dictionary.\n",
    "        Use this to create a simple search schema. If the search schema\n",
    "    \"\"\"\n",
    "    \n",
    "    \n",
    "    def __init__(self):\n",
    "        self.start = {}\n",
    "        self.end = {}\n",
    "        self.string_version = {}\n",
    "        self.indexable = {}\n",
    "        self.sub_dict_keys = []\n",
    "        self.arr = []\n",
    "        \n",
    "    \n",
    "        \n",
    "    @property\n",
    "    def generics(self):\n",
    "        return [\n",
    "            str, float, int, list, bool, dict\n",
    "        ]\n",
    "    \n",
    "    def is_generic(self, _k):\n",
    "        return _k in self.generics\n",
    "    \n",
    "    def is_geo(self, k):\n",
    "        if is_gen_type(k, GEO):\n",
    "            return True\n",
    "        \n",
    "        if is_gen_type(k, str):\n",
    "            if name_match(k, \"geo\"):\n",
    "                return True\n",
    "        return False\n",
    "        \n",
    "    def to_str(self, i):\n",
    "        \"\"\"Converts the item to a string version of it\"\"\"\n",
    "        if i == bool:\n",
    "            # This will be text that we'll force exact queries on\n",
    "            return \"BOOL\"\n",
    "        elif i == float or i == int:\n",
    "            return \"NUMERIC\"\n",
    "        elif i == str:\n",
    "            return \"TEXT\"\n",
    "        elif i == list:\n",
    "            return \"TAG\"\n",
    "        else:\n",
    "            return \"DICT\"\n",
    "    \n",
    "    @property\n",
    "    def subs(self):\n",
    "        return self.sub_dict_keys\n",
    "    \n",
    "    @property\n",
    "    def is_valid(self) -> bool:\n",
    "        if len(self.start) == 0:\n",
    "            return False\n",
    "        for k, v in self.start.items():\n",
    "            if not self.is_generic(v):\n",
    "                if not self.is_geo(v):\n",
    "                    return False\n",
    "                self.string_version[k] = \"GEO\"\n",
    "                self.arr.append(GeoField(k))\n",
    "                continue\n",
    "            sval = self.to_str(v)\n",
    "            self.string_version[k] = sval\n",
    "            if sval in [\"NUMERIC\", \"TEXT\", \"BOOL\"]:\n",
    "                self.indexable[k] = sval\n",
    "                if v == \"NUMERIC\":\n",
    "                    self.arr.append(NumericField(k))\n",
    "                else:\n",
    "                    self.arr.append(TextField(k))\n",
    "        return True\n",
    "    \n",
    "    \n",
    "    def index_array(self):\n",
    "        return self.arr\n",
    "    \n",
    "    @property\n",
    "    def hashed_schema(self):\n",
    "        return consistent_hash(self.string_version)\n",
    "    \n",
    "    def generate(self, required:dict):\n",
    "        self.start = required\n",
    "        if not self.is_valid:\n",
    "            raise TypeError(\"This information is not the right type\")\n",
    "        _hashed = self.hashed_schema\n",
    "        for k, v in self.string_version.items():\n",
    "            if v == \"DICT\":\n",
    "                self.sub_dict_keys.append(f\"{_hashed}:{k}\")\n",
    "        return self\n",
    "    \n",
    "    "
   ]
  },
  {
   "cell_type": "markdown",
   "metadata": {},
   "source": [
    "## Example Queries\n",
    "\n",
    "Here are some example queries/data types we'll encounter."
   ]
  },
  {
   "cell_type": "markdown",
   "metadata": {},
   "source": [
    "### Get all US economic indicators\n",
    "\n",
    "The query would include the following indicators:\n",
    "\n",
    "1. Economic specific information (something labelled as economics)\n",
    "2. A label stating that it's for the United States\n",
    "3. We'd probably want everything pertaining the markets too.\n",
    "\n",
    "Storing the information would look similar to the following:\n",
    "\n",
    "* **data_type** - dataset\n",
    "* **category** - markets\n",
    "* **subcategories**\n",
    "    * **field** - economics\n",
    "    * **country** - US\n",
    "\n",
    "The exact name wouldn't matter, but it should return all the datasets with complete information that we can use for an actual backtest system. There's two parts to this:\n",
    "\n",
    "1. Actually inserting information into the system so we can find it later\n",
    "2. Using a dictionary to find that information\n",
    "\n",
    "\n",
    "The schema everything will likely rely on is the following:\n",
    "```py\n",
    "{\n",
    "    \"name\": str\n",
    "    \"data_type\":str,\n",
    "    \"category\": str,\n",
    "    \"subcategories\": dict,\n",
    "    \"description\": str\n",
    "}\n",
    "```\n",
    "\n",
    "This schema would allow us to save information inside of the database in the following way:\n",
    "\n",
    "\n",
    "```py\n",
    "{\n",
    "    \"name\": \"Real GDP\",\n",
    "    \"data_type\": \"dataset\",\n",
    "    \"category\": \"markets\",\n",
    "    \"subcategories\": {\n",
    "        \"aspect\": \"economic\",\n",
    "        \"country\": \"US\"\n",
    "    },\n",
    "    \"description\": \"The Federal Reserve uses data such as the real GDP and other related economic indicators to adjust its monetary policy.\"\n",
    "}\n",
    "```\n",
    "\n",
    "While our search schema would look like the following:\n",
    "\n",
    "```py\n",
    "query = {\n",
    "   \"data_type\": \"dataset\",\n",
    "   \"category\": \"markets\",\n",
    "   \"subcategories\": {\n",
    "       \"aspect\": \"economic\",\n",
    "       \"country\": \"US\"\n",
    "   }\n",
    "}\n",
    "```\n",
    "\n",
    "It should return the Real GDP if we enter it in in the form of a list. If we're wrapping the dataset search into its own class, we wouldn't need to add the data_type field.\n",
    "\n",
    "\n",
    "Instead of documenting a lot about it, how about we create an example."
   ]
  },
  {
   "cell_type": "code",
   "execution_count": 346,
   "metadata": {},
   "outputs": [],
   "source": [
    "from redisearch import Client\n",
    "from redisearch import Client, TextField, NumericField, Query"
   ]
  },
  {
   "cell_type": "code",
   "execution_count": 347,
   "metadata": {},
   "outputs": [],
   "source": [
    "schema = {\n",
    "#     \"type\": \"feature\",\n",
    "    \"meta_type\": str,\n",
    "    \"name\": str,\n",
    "    \"category\": str,\n",
    "    \"subcategories\": dict,\n",
    "    \"description\": str,\n",
    "    \"poop\": \"world\",\n",
    "    \"location\": \"geo\"\n",
    "}"
   ]
  },
  {
   "cell_type": "code",
   "execution_count": 348,
   "metadata": {},
   "outputs": [],
   "source": [
    "scheme_gen = SearchSchemaGenerator()"
   ]
  },
  {
   "cell_type": "code",
   "execution_count": 349,
   "metadata": {},
   "outputs": [],
   "source": [
    "def create_client(_schema):\n",
    "    client = None\n",
    "    try:\n",
    "        scheme_gen.generate(_schema)\n",
    "        index_list = scheme_gen.index_array()\n",
    "        client = Client(scheme_gen.hashed_schema)\n",
    "        client.create_index(index_list)\n",
    "    except Exception as res:\n",
    "        print(str(res))\n",
    "    return client"
   ]
  },
  {
   "cell_type": "code",
   "execution_count": 350,
   "metadata": {},
   "outputs": [
    {
     "name": "stdout",
     "output_type": "stream",
     "text": [
      "This information is not the right type\n"
     ]
    }
   ],
   "source": [
    "create_client(schema)"
   ]
  },
  {
   "cell_type": "code",
   "execution_count": 386,
   "metadata": {},
   "outputs": [],
   "source": [
    "class SampleSearch(SearchSchemaGenerator):\n",
    "    \"\"\"\n",
    "        # SampleSearch\n",
    "        \n",
    "        \n",
    "        This is a prototype of how the actual search would work.\n",
    "    \"\"\"\n",
    "    def __init__(self):\n",
    "        super().__init__()\n",
    "        self.required = {\n",
    "            \"meta_type\": str,\n",
    "            \"name\": str,\n",
    "            \"category\": str,\n",
    "            \"subcategories\": dict,\n",
    "            \"description\": str,\n",
    "            \"location\": \"geo\"\n",
    "        }\n",
    "        self._client = None\n",
    "    \n",
    "    @property\n",
    "    def client(self):\n",
    "        \n",
    "        if self._client is not None:\n",
    "            return self._client\n",
    "        \n",
    "        self._client = None\n",
    "        try:\n",
    "            self.generate(self.required)\n",
    "            \n",
    "            index_list = self.index_array()\n",
    "            self._client = Client(self.hashed_schema)\n",
    "            self._client.create_index(index_list)\n",
    "        except Exception as res:\n",
    "            pass\n",
    "        return self._client"
   ]
  },
  {
   "cell_type": "code",
   "execution_count": 387,
   "metadata": {},
   "outputs": [],
   "source": [
    "sample_search = SampleSearch()"
   ]
  },
  {
   "cell_type": "code",
   "execution_count": 406,
   "metadata": {},
   "outputs": [
    {
     "data": {
      "text/plain": [
       "<redisearch.client.Client at 0x7f6d552ecd68>"
      ]
     },
     "execution_count": 406,
     "metadata": {},
     "output_type": "execute_result"
    }
   ],
   "source": [
    "sample_search.client"
   ]
  },
  {
   "cell_type": "code",
   "execution_count": 389,
   "metadata": {},
   "outputs": [],
   "source": [
    "# print(client)"
   ]
  },
  {
   "cell_type": "code",
   "execution_count": null,
   "metadata": {},
   "outputs": [],
   "source": []
  },
  {
   "cell_type": "code",
   "execution_count": null,
   "metadata": {},
   "outputs": [],
   "source": []
  },
  {
   "cell_type": "code",
   "execution_count": null,
   "metadata": {},
   "outputs": [],
   "source": []
  }
 ],
 "metadata": {
  "kernelspec": {
   "display_name": "Python 3",
   "language": "python",
   "name": "python3"
  },
  "language_info": {
   "codemirror_mode": {
    "name": "ipython",
    "version": 3
   },
   "file_extension": ".py",
   "mimetype": "text/x-python",
   "name": "python",
   "nbconvert_exporter": "python",
   "pygments_lexer": "ipython3",
   "version": "3.7.3"
  }
 },
 "nbformat": 4,
 "nbformat_minor": 4
}
