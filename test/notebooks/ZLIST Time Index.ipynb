{
 "cells": [
  {
   "cell_type": "code",
   "execution_count": 451,
   "metadata": {},
   "outputs": [],
   "source": [
    "import uuid\n",
    "import maya\n",
    "import orjson\n",
    "from copy import copy\n",
    "from redis import Redis\n",
    "from typing import List, Set\n",
    "from jamboree.utils.helper import Helpers"
   ]
  },
  {
   "cell_type": "code",
   "execution_count": 452,
   "metadata": {},
   "outputs": [],
   "source": [
    "redis = Redis()\n",
    "helper = Helpers()"
   ]
  },
  {
   "cell_type": "code",
   "execution_count": 453,
   "metadata": {},
   "outputs": [],
   "source": [
    "def add_time(item:dict, _time:float, rel_abs=\"absolute\"):\n",
    "    if rel_abs == \"absolute\":\n",
    "        item['timestamp'] = _time\n",
    "    else:\n",
    "        item['time'] = _time\n",
    "    return item"
   ]
  },
  {
   "cell_type": "code",
   "execution_count": 454,
   "metadata": {},
   "outputs": [],
   "source": [
    "def generate_dicts(data, _time, timestamp):\n",
    "    relative = copy(data)\n",
    "    absolute = copy(data)\n",
    "    relative['time'] = _time\n",
    "    absolute['timestamp'] = _time\n",
    "    return {\n",
    "        \"relative\": relative,\n",
    "        \"absolute\": absolute\n",
    "    }"
   ]
  },
  {
   "cell_type": "code",
   "execution_count": 455,
   "metadata": {},
   "outputs": [],
   "source": [
    "def sorted_z_to_dict(zset:List[Set], rel_abs=\"absolute\"):\n",
    "    if len(zset) == 0 or abs_rel not in [\"absolute\", \"relative\"]:\n",
    "        return []\n",
    "    \n",
    "    times = [x[1] for x in zset]\n",
    "    dicts = [add_time(orjson.loads(x[0]), times[i], rel_abs) for i, x in enumerate(zset)]\n",
    "    return dicts"
   ]
  },
  {
   "cell_type": "code",
   "execution_count": 475,
   "metadata": {},
   "outputs": [],
   "source": [
    "def dictify(azset:List[Set], rzset:List[Set]):\n",
    "    \"\"\"Create a dictionary\"\"\"\n",
    "    if len(azset) == 0 or len(rzset) == 0:\n",
    "        return {}\n",
    "    adict = {}\n",
    "    for azs in azset:\n",
    "        item, time = azs\n",
    "        if item == b'{\"placeholder\": \"place\"}':\n",
    "            continue\n",
    "        current_item = adict.get(item, {})\n",
    "        current_item['timestamp'] = time\n",
    "        adict[item] = current_item\n",
    "    \n",
    "    # Set the relative time\n",
    "    for rzs in rzset:\n",
    "        item, time = rzs\n",
    "        if item == b'{\"placeholder\": \"place\"}':\n",
    "            continue\n",
    "        current_item = adict.get(item, {})\n",
    "        current_item['time'] = time\n",
    "        adict[item] = current_item\n",
    "    \n",
    "    return adict"
   ]
  },
  {
   "cell_type": "code",
   "execution_count": 476,
   "metadata": {},
   "outputs": [],
   "source": [
    "def deserialize_dicts(dictified:dict):\n",
    "    _deserialized = []\n",
    "    for key, value in dictified.items():\n",
    "        _key = orjson.loads(key)\n",
    "        _key['time'] = value.get(\"time\", maya.now()._epoch)\n",
    "        _key['timestamp'] = value.get(\"timestamp\", maya.now()._epoch)\n",
    "        _deserialized.append(_key)\n",
    "    return _deserialized"
   ]
  },
  {
   "cell_type": "code",
   "execution_count": 477,
   "metadata": {},
   "outputs": [],
   "source": [
    "def check_time(_time:float, _timestamp:float, local_time:float, local_timestamp:float):\n",
    "    current_time = maya.now()._epoch\n",
    "    \n",
    "    \n",
    "    if local_time is not None:\n",
    "        _time = local_time\n",
    "    elif _time is None:\n",
    "        _time = current_time\n",
    "    if local_timestamp is not None:\n",
    "        _timestamp = local_timestamp\n",
    "    elif _timestamp is None:\n",
    "        _timestamp = current_time\n",
    "    \n",
    "    return {\n",
    "        \"time\": _time,\n",
    "        \"timestamp\": _timestamp\n",
    "    }"
   ]
  },
  {
   "cell_type": "code",
   "execution_count": 478,
   "metadata": {},
   "outputs": [],
   "source": [
    "def separate_time_data(data:dict, _time:float=None, _timestamp:float=None):\n",
    "    local_time = data.pop(\"time\", None)\n",
    "    local_timestamp = data.pop(\"timestamp\", None)\n",
    "    timing = check_time(_time, _timestamp, local_time, local_timestamp)\n",
    "    return data, timing"
   ]
  },
  {
   "cell_type": "code",
   "execution_count": 479,
   "metadata": {},
   "outputs": [],
   "source": [
    "def save(query, data, _time=None, _timestamp=None):\n",
    "    if not helper.validate_query(query):\n",
    "        return \n",
    "    _hash = helper.generate_hash(query)\n",
    "    \n",
    "    \n",
    "    query.update(data)\n",
    "    \n",
    "    \n",
    "    \n",
    "    data, timing = separate_time_data(query, _time, _timestamp)\n",
    "    \n",
    "    relative_time_key = f\"{_hash}:rlist\"\n",
    "    absolute_time_key = f\"{_hash}:alist\"\n",
    "\n",
    "    \n",
    "    # Generate Data\n",
    "    mono = orjson.dumps(data)\n",
    "    relative_data = {\n",
    "        mono: timing[\"time\"]\n",
    "    }\n",
    "    absolute_data = {\n",
    "        mono: timing[\"timestamp\"]\n",
    "    }    \n",
    "\n",
    "    redis.zadd(relative_time_key, relative_data)\n",
    "    redis.zadd(absolute_time_key, absolute_data)"
   ]
  },
  {
   "cell_type": "code",
   "execution_count": 480,
   "metadata": {},
   "outputs": [],
   "source": [
    "def query(_query):\n",
    "    if not helper.validate_query(_query):\n",
    "        return \n",
    "    _hash = helper.generate_hash(_query)\n",
    "    relative_time_key = f\"{_hash}:rlist\"\n",
    "    absolute_time_key = f\"{_hash}:alist\"\n",
    "    keys = redis.zrange(relative_time_key, 0, -1, withscores=True)\n",
    "    akeys = redis.zrange(absolute_time_key, 0, -1, withscores=True)\n",
    "\n",
    "    dicts = dictify(akeys, keys)\n",
    "    combined = deserialize_dicts(dicts)\n",
    "    return combined"
   ]
  },
  {
   "cell_type": "code",
   "execution_count": 481,
   "metadata": {},
   "outputs": [],
   "source": [
    "def query_latest(_query, abs_rel=\"absolute\"):\n",
    "    if not helper.validate_query(_query) or abs_rel not in [\"absolute\", \"relative\"]:\n",
    "        return \n",
    "    _hash = helper.generate_hash(_query)\n",
    "    \n",
    "    _current_key = \"\"\n",
    "    if abs_rel == \"absolute\":\n",
    "        _current_key = f\"{_hash}:alist\"\n",
    "    else:\n",
    "        _current_key = f\"{_hash}:rlist\"\n",
    "    \n",
    "    blank_keys = [(b'{\"placeholder\": \"place\"}', 0)]\n",
    "    keys = redis.zrange(_current_key, -1, -1, withscores=True)\n",
    "    dicts = dictify(keys, blank_keys)\n",
    "    combined = deserialize_dicts(dicts)\n",
    "    return combined"
   ]
  },
  {
   "cell_type": "code",
   "execution_count": 482,
   "metadata": {},
   "outputs": [],
   "source": [
    "def query_latest_many(_query, abs_rel=\"absolute\", limit:int=10):\n",
    "    if not helper.validate_query(_query) or abs_rel not in [\"absolute\", \"relative\"]:\n",
    "        return \n",
    "    _hash = helper.generate_hash(_query)\n",
    "    \n",
    "    _current_key = \"\"\n",
    "    if abs_rel == \"absolute\":\n",
    "        _current_key = f\"{_hash}:alist\"\n",
    "    else:\n",
    "        _current_key = f\"{_hash}:rlist\"\n",
    "    \n",
    "    blank_keys = [(b'{\"placeholder\": \"place\"}', 0)]\n",
    "    keys = redis.zrange(_current_key, -limit, -1, withscores=True)\n",
    "    dicts = []\n",
    "    if abs_rel == \"absolute\":\n",
    "        dicts = dictify(keys, blank_keys)\n",
    "    else:\n",
    "        \n",
    "        dicts = dictify(blank_keys, keys)\n",
    "    \n",
    "    combined = deserialize_dicts(dicts)\n",
    "    return combined"
   ]
  },
  {
   "cell_type": "code",
   "execution_count": 483,
   "metadata": {},
   "outputs": [],
   "source": [
    "episode = uuid.uuid1().hex"
   ]
  },
  {
   "cell_type": "code",
   "execution_count": 484,
   "metadata": {},
   "outputs": [],
   "source": [
    "save({\"type\": \"hello\", \"episode\": episode}, {\"name\":\"world\"}, _time=(maya.now()._epoch + 3600))\n",
    "save({\"type\": \"hello\", \"episode\": episode}, {\"name\":\"world\", \"my\": \"world\"}, _time=(maya.now()._epoch))"
   ]
  },
  {
   "cell_type": "code",
   "execution_count": 485,
   "metadata": {},
   "outputs": [
    {
     "data": {
      "text/plain": [
       "[{'type': 'hello',\n",
       "  'episode': '78691f4e33d711ea9d1380c5f21e8205',\n",
       "  'name': 'world',\n",
       "  'time': 1578681112.3724682,\n",
       "  'timestamp': 1578684712.0971866}]"
      ]
     },
     "execution_count": 485,
     "metadata": {},
     "output_type": "execute_result"
    }
   ],
   "source": [
    "query_latest({\"type\": \"hello\", \"episode\": episode}, abs_rel=\"relative\")"
   ]
  },
  {
   "cell_type": "code",
   "execution_count": 486,
   "metadata": {},
   "outputs": [
    {
     "data": {
      "text/plain": [
       "[{'type': 'hello',\n",
       "  'episode': '78691f4e33d711ea9d1380c5f21e8205',\n",
       "  'name': 'world',\n",
       "  'my': 'world',\n",
       "  'time': 1578681113.140772,\n",
       "  'timestamp': 1578681112.0989897}]"
      ]
     },
     "execution_count": 486,
     "metadata": {},
     "output_type": "execute_result"
    }
   ],
   "source": [
    "query_latest({\"type\": \"hello\", \"episode\": episode})"
   ]
  },
  {
   "cell_type": "code",
   "execution_count": 487,
   "metadata": {},
   "outputs": [
    {
     "data": {
      "text/plain": [
       "[{'type': 'hello',\n",
       "  'episode': '78691f4e33d711ea9d1380c5f21e8205',\n",
       "  'name': 'world',\n",
       "  'my': 'world',\n",
       "  'time': 1578681112.0989506,\n",
       "  'timestamp': 1578681114.2134943},\n",
       " {'type': 'hello',\n",
       "  'episode': '78691f4e33d711ea9d1380c5f21e8205',\n",
       "  'name': 'world',\n",
       "  'time': 1578684712.0971866,\n",
       "  'timestamp': 1578681114.2135043}]"
      ]
     },
     "execution_count": 487,
     "metadata": {},
     "output_type": "execute_result"
    }
   ],
   "source": [
    "query_latest_many({\"type\": \"hello\", \"episode\": episode}, abs_rel=\"relative\", limit=100)"
   ]
  },
  {
   "cell_type": "code",
   "execution_count": null,
   "metadata": {},
   "outputs": [],
   "source": []
  },
  {
   "cell_type": "code",
   "execution_count": null,
   "metadata": {},
   "outputs": [],
   "source": []
  }
 ],
 "metadata": {
  "kernelspec": {
   "display_name": "Python 3",
   "language": "python",
   "name": "python3"
  },
  "language_info": {
   "codemirror_mode": {
    "name": "ipython",
    "version": 3
   },
   "file_extension": ".py",
   "mimetype": "text/x-python",
   "name": "python",
   "nbconvert_exporter": "python",
   "pygments_lexer": "ipython3",
   "version": "3.6.8"
  },
  "varInspector": {
   "cols": {
    "lenName": 16,
    "lenType": 16,
    "lenVar": 40
   },
   "kernels_config": {
    "python": {
     "delete_cmd_postfix": "",
     "delete_cmd_prefix": "del ",
     "library": "var_list.py",
     "varRefreshCmd": "print(var_dic_list())"
    },
    "r": {
     "delete_cmd_postfix": ") ",
     "delete_cmd_prefix": "rm(",
     "library": "var_list.r",
     "varRefreshCmd": "cat(var_dic_list()) "
    }
   },
   "types_to_exclude": [
    "module",
    "function",
    "builtin_function_or_method",
    "instance",
    "_Feature"
   ],
   "window_display": false
  }
 },
 "nbformat": 4,
 "nbformat_minor": 4
}
