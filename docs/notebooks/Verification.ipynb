{
 "cells": [
  {
   "cell_type": "code",
   "execution_count": 33,
   "metadata": {},
   "outputs": [],
   "source": [
    "from cerberus import Validator"
   ]
  },
  {
   "cell_type": "code",
   "execution_count": null,
   "metadata": {},
   "outputs": [],
   "source": [
    "from cerberus import Validator\n",
    "\n",
    "class JamboreeValidator(Validator):\n",
    "    def _validate_isodd(self, isodd, field, value):\n",
    "        \"\"\" Test the oddity of a value.\n",
    "\n",
    "        The rule's arguments are validated against this schema:\n",
    "        {'type': 'boolean'}\n",
    "        \"\"\"\n",
    "        if isodd and not bool(value & 1):\n",
    "            self._error(field, \"Must be an odd number\")"
   ]
  },
  {
   "cell_type": "code",
   "execution_count": 28,
   "metadata": {},
   "outputs": [],
   "source": [
    "_global_validator = Validator(allow_unknown=True)"
   ]
  },
  {
   "cell_type": "code",
   "execution_count": 29,
   "metadata": {},
   "outputs": [],
   "source": [
    "def check_for_sub_query_dict(_dict:dict):\n",
    "    for v in _dict.values():\n",
    "        if isinstance(v, dict):\n",
    "            pass"
   ]
  },
  {
   "cell_type": "code",
   "execution_count": 36,
   "metadata": {},
   "outputs": [],
   "source": [
    "# Check to see if the subkeys are of the given types. \n",
    "# If it's a dict. Make sure to check to see\n",
    "example_all_of_schema = {\n",
    "    \"keyrules\": {\"type\": \"string\"},\n",
    "    \"valuesrules\": {\n",
    "        \"type\": ['string', 'boolean', 'number', 'dict', 'list']\n",
    "    }\n",
    "}"
   ]
  },
  {
   "cell_type": "code",
   "execution_count": 37,
   "metadata": {},
   "outputs": [
    {
     "data": {
      "text/plain": [
       "True"
      ]
     },
     "execution_count": 37,
     "metadata": {},
     "output_type": "execute_result"
    }
   ],
   "source": [
    "_global_validator.validate({\"1\":\"two\"},example_all_of_schema)"
   ]
  },
  {
   "cell_type": "code",
   "execution_count": null,
   "metadata": {},
   "outputs": [],
   "source": []
  }
 ],
 "metadata": {
  "kernelspec": {
   "display_name": "Python 3",
   "language": "python",
   "name": "python3"
  },
  "language_info": {
   "codemirror_mode": {
    "name": "ipython",
    "version": 3
   },
   "file_extension": ".py",
   "mimetype": "text/x-python",
   "name": "python",
   "nbconvert_exporter": "python",
   "pygments_lexer": "ipython3",
   "version": "3.7.3"
  }
 },
 "nbformat": 4,
 "nbformat_minor": 4
}
